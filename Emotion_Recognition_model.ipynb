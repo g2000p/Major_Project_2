{
  "cells": [
    {
      "cell_type": "code",
      "execution_count": 1,
      "metadata": {
        "id": "NRc-5RShQ1Q2"
      },
      "outputs": [],
      "source": [
        "import re # regex\n",
        "import pandas as pd # tables\n",
        "import matplotlib.pyplot as plt # plots\n",
        "import seaborn as sns # plots\n",
        "import numpy as np # operations with arrays and matrices "
      ]
    },
    {
      "cell_type": "markdown",
      "metadata": {
        "id": "6DSuE1EfTfYJ"
      },
      "source": [
        "Load & explore data"
      ]
    },
    {
      "cell_type": "code",
      "execution_count": 2,
      "metadata": {
        "colab": {
          "base_uri": "https://localhost:8080/",
          "height": 144,
          "resources": {
            "http://localhost:8080/nbextensions/google.colab/files.js": {
              "data": "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",
              "headers": [
                [
                  "content-type",
                  "application/javascript"
                ]
              ],
              "ok": true,
              "status": 200,
              "status_text": ""
            }
          }
        },
        "id": "-szBUufmU-0t",
        "outputId": "556df755-636a-4a04-a7b2-f4b3097920d8"
      },
      "outputs": [
        {
          "output_type": "display_data",
          "data": {
            "text/plain": [
              "<IPython.core.display.HTML object>"
            ],
            "text/html": [
              "\n",
              "     <input type=\"file\" id=\"files-7c0b229f-4aea-4a02-a7d3-68d2a907ffeb\" name=\"files[]\" multiple disabled\n",
              "        style=\"border:none\" />\n",
              "     <output id=\"result-7c0b229f-4aea-4a02-a7d3-68d2a907ffeb\">\n",
              "      Upload widget is only available when the cell has been executed in the\n",
              "      current browser session. Please rerun this cell to enable.\n",
              "      </output>\n",
              "      <script src=\"/nbextensions/google.colab/files.js\"></script> "
            ]
          },
          "metadata": {}
        },
        {
          "output_type": "stream",
          "name": "stdout",
          "text": [
            "Saving test.txt to test.txt\n",
            "Saving train.txt to train.txt\n",
            "Saving validation.txt to validation.txt\n"
          ]
        }
      ],
      "source": [
        "from google.colab import files\n",
        "uploaded = files.upload()"
      ]
    },
    {
      "cell_type": "code",
      "execution_count": 4,
      "metadata": {
        "id": "ZsLY1MwoTw-G"
      },
      "outputs": [],
      "source": [
        "train = pd.read_csv('train.txt', header=None, sep=';', names=['Lines','Emotions'], encoding='utf-8')\n",
        "test = pd.read_csv('test.txt', header=None, sep =';', names=['Lines','Emotions'], encoding='utf-8')\n",
        "validation = pd.read_csv('validation.txt', header=None, sep=';', names=['Lines','Emotions'], encoding='utf-8')"
      ]
    },
    {
      "cell_type": "code",
      "execution_count": 5,
      "metadata": {
        "id": "gIZhxofuVjAv"
      },
      "outputs": [],
      "source": [
        "# adding a column with encoded emotions\n",
        "emotions_to_labels = {'anger': 0, 'love': 1, 'fear': 2, 'joy': 3, 'sadness': 4,'surprise': 5}\n",
        "labels_to_emotions = {j:i for i,j in emotions_to_labels.items()}\n",
        "\n",
        "train['Labels'] = train['Emotions'].replace(emotions_to_labels)\n",
        "test['Labels'] = test['Emotions'].replace(emotions_to_labels)\n",
        "validation['Labels'] = validation['Emotions'].replace(emotions_to_labels)"
      ]
    },
    {
      "cell_type": "code",
      "execution_count": 6,
      "metadata": {
        "colab": {
          "base_uri": "https://localhost:8080/",
          "height": 206
        },
        "id": "MDzZ4vDvVmSM",
        "outputId": "22e7bb7b-ef92-4991-cdd2-de2f19f17a56"
      },
      "outputs": [
        {
          "output_type": "execute_result",
          "data": {
            "text/plain": [
              "                                               Lines Emotions  Labels\n",
              "0                            i didnt feel humiliated  sadness       4\n",
              "1  i can go from feeling so hopeless to so damned...  sadness       4\n",
              "2   im grabbing a minute to post i feel greedy wrong    anger       0\n",
              "3  i am ever feeling nostalgic about the fireplac...     love       1\n",
              "4                               i am feeling grouchy    anger       0"
            ],
            "text/html": [
              "\n",
              "  <div id=\"df-6579ccb8-20b8-4b2a-ac92-c2089c98cc7d\">\n",
              "    <div class=\"colab-df-container\">\n",
              "      <div>\n",
              "<style scoped>\n",
              "    .dataframe tbody tr th:only-of-type {\n",
              "        vertical-align: middle;\n",
              "    }\n",
              "\n",
              "    .dataframe tbody tr th {\n",
              "        vertical-align: top;\n",
              "    }\n",
              "\n",
              "    .dataframe thead th {\n",
              "        text-align: right;\n",
              "    }\n",
              "</style>\n",
              "<table border=\"1\" class=\"dataframe\">\n",
              "  <thead>\n",
              "    <tr style=\"text-align: right;\">\n",
              "      <th></th>\n",
              "      <th>Lines</th>\n",
              "      <th>Emotions</th>\n",
              "      <th>Labels</th>\n",
              "    </tr>\n",
              "  </thead>\n",
              "  <tbody>\n",
              "    <tr>\n",
              "      <th>0</th>\n",
              "      <td>i didnt feel humiliated</td>\n",
              "      <td>sadness</td>\n",
              "      <td>4</td>\n",
              "    </tr>\n",
              "    <tr>\n",
              "      <th>1</th>\n",
              "      <td>i can go from feeling so hopeless to so damned...</td>\n",
              "      <td>sadness</td>\n",
              "      <td>4</td>\n",
              "    </tr>\n",
              "    <tr>\n",
              "      <th>2</th>\n",
              "      <td>im grabbing a minute to post i feel greedy wrong</td>\n",
              "      <td>anger</td>\n",
              "      <td>0</td>\n",
              "    </tr>\n",
              "    <tr>\n",
              "      <th>3</th>\n",
              "      <td>i am ever feeling nostalgic about the fireplac...</td>\n",
              "      <td>love</td>\n",
              "      <td>1</td>\n",
              "    </tr>\n",
              "    <tr>\n",
              "      <th>4</th>\n",
              "      <td>i am feeling grouchy</td>\n",
              "      <td>anger</td>\n",
              "      <td>0</td>\n",
              "    </tr>\n",
              "  </tbody>\n",
              "</table>\n",
              "</div>\n",
              "      <button class=\"colab-df-convert\" onclick=\"convertToInteractive('df-6579ccb8-20b8-4b2a-ac92-c2089c98cc7d')\"\n",
              "              title=\"Convert this dataframe to an interactive table.\"\n",
              "              style=\"display:none;\">\n",
              "        \n",
              "  <svg xmlns=\"http://www.w3.org/2000/svg\" height=\"24px\"viewBox=\"0 0 24 24\"\n",
              "       width=\"24px\">\n",
              "    <path d=\"M0 0h24v24H0V0z\" fill=\"none\"/>\n",
              "    <path d=\"M18.56 5.44l.94 2.06.94-2.06 2.06-.94-2.06-.94-.94-2.06-.94 2.06-2.06.94zm-11 1L8.5 8.5l.94-2.06 2.06-.94-2.06-.94L8.5 2.5l-.94 2.06-2.06.94zm10 10l.94 2.06.94-2.06 2.06-.94-2.06-.94-.94-2.06-.94 2.06-2.06.94z\"/><path d=\"M17.41 7.96l-1.37-1.37c-.4-.4-.92-.59-1.43-.59-.52 0-1.04.2-1.43.59L10.3 9.45l-7.72 7.72c-.78.78-.78 2.05 0 2.83L4 21.41c.39.39.9.59 1.41.59.51 0 1.02-.2 1.41-.59l7.78-7.78 2.81-2.81c.8-.78.8-2.07 0-2.86zM5.41 20L4 18.59l7.72-7.72 1.47 1.35L5.41 20z\"/>\n",
              "  </svg>\n",
              "      </button>\n",
              "      \n",
              "  <style>\n",
              "    .colab-df-container {\n",
              "      display:flex;\n",
              "      flex-wrap:wrap;\n",
              "      gap: 12px;\n",
              "    }\n",
              "\n",
              "    .colab-df-convert {\n",
              "      background-color: #E8F0FE;\n",
              "      border: none;\n",
              "      border-radius: 50%;\n",
              "      cursor: pointer;\n",
              "      display: none;\n",
              "      fill: #1967D2;\n",
              "      height: 32px;\n",
              "      padding: 0 0 0 0;\n",
              "      width: 32px;\n",
              "    }\n",
              "\n",
              "    .colab-df-convert:hover {\n",
              "      background-color: #E2EBFA;\n",
              "      box-shadow: 0px 1px 2px rgba(60, 64, 67, 0.3), 0px 1px 3px 1px rgba(60, 64, 67, 0.15);\n",
              "      fill: #174EA6;\n",
              "    }\n",
              "\n",
              "    [theme=dark] .colab-df-convert {\n",
              "      background-color: #3B4455;\n",
              "      fill: #D2E3FC;\n",
              "    }\n",
              "\n",
              "    [theme=dark] .colab-df-convert:hover {\n",
              "      background-color: #434B5C;\n",
              "      box-shadow: 0px 1px 3px 1px rgba(0, 0, 0, 0.15);\n",
              "      filter: drop-shadow(0px 1px 2px rgba(0, 0, 0, 0.3));\n",
              "      fill: #FFFFFF;\n",
              "    }\n",
              "  </style>\n",
              "\n",
              "      <script>\n",
              "        const buttonEl =\n",
              "          document.querySelector('#df-6579ccb8-20b8-4b2a-ac92-c2089c98cc7d button.colab-df-convert');\n",
              "        buttonEl.style.display =\n",
              "          google.colab.kernel.accessAllowed ? 'block' : 'none';\n",
              "\n",
              "        async function convertToInteractive(key) {\n",
              "          const element = document.querySelector('#df-6579ccb8-20b8-4b2a-ac92-c2089c98cc7d');\n",
              "          const dataTable =\n",
              "            await google.colab.kernel.invokeFunction('convertToInteractive',\n",
              "                                                     [key], {});\n",
              "          if (!dataTable) return;\n",
              "\n",
              "          const docLinkHtml = 'Like what you see? Visit the ' +\n",
              "            '<a target=\"_blank\" href=https://colab.research.google.com/notebooks/data_table.ipynb>data table notebook</a>'\n",
              "            + ' to learn more about interactive tables.';\n",
              "          element.innerHTML = '';\n",
              "          dataTable['output_type'] = 'display_data';\n",
              "          await google.colab.output.renderOutput(dataTable, element);\n",
              "          const docLink = document.createElement('div');\n",
              "          docLink.innerHTML = docLinkHtml;\n",
              "          element.appendChild(docLink);\n",
              "        }\n",
              "      </script>\n",
              "    </div>\n",
              "  </div>\n",
              "  "
            ]
          },
          "metadata": {},
          "execution_count": 6
        }
      ],
      "source": [
        "train.head()"
      ]
    },
    {
      "cell_type": "markdown",
      "metadata": {
        "id": "4AfHcrn3VtBk"
      },
      "source": [
        "Exploratory Data Analysis"
      ]
    },
    {
      "cell_type": "code",
      "execution_count": 7,
      "metadata": {
        "id": "Mra4KAUNVvg_"
      },
      "outputs": [],
      "source": [
        "def visualize_labels_distribution(df, title='the'):\n",
        "  '''\n",
        "  Accepts a dataframe with 'Emotions' column and dataset title (e.g. 'train')\n",
        "  Creates bar chart with num of elements of each category\n",
        "  Returns nothing\n",
        "\n",
        "  '''\n",
        "  # create a pandas series with labels and their counts\n",
        "  num_labels = df['Emotions'].value_counts()\n",
        "\n",
        "  # num of unique categories\n",
        "  x_barchart = range(df['Emotions'].nunique())\n",
        "  # list of labels\n",
        "  x_barchart_labels = [str(emotions_to_labels[emotion]) +\\\n",
        "                       ' - ' + emotion for emotion in list(num_labels.index)]\n",
        "\n",
        "  # list of counts\n",
        "  y_barchart = list(num_labels.values)\n",
        "\n",
        "  # creating bar chart\n",
        "  plt.figure(figsize = (6, 5))\n",
        "  plt.bar(x_barchart, y_barchart, color='#707bfb')\n",
        "\n",
        "  # adding num of elements for each category on plot as text\n",
        "  for index, data in enumerate(y_barchart):\n",
        "    plt.text(x = index, \n",
        "            y = data+max(y_barchart)/100, \n",
        "            s = '{}'.format(data), \n",
        "            fontdict = dict(fontsize=10), \n",
        "            ha = 'center',)\n",
        "  \n",
        "  plt.xticks(x_barchart, x_barchart_labels, rotation=40)\n",
        "  plt.title('Num of elements of each category for {} dataset'.format(title))\n",
        "  plt.tight_layout()\n",
        "\n",
        "  print('There are {} records in the dataset.\\n'.format(len(df.index)))\n",
        "\n",
        "  plt.show()"
      ]
    },
    {
      "cell_type": "code",
      "execution_count": 8,
      "metadata": {
        "colab": {
          "base_uri": "https://localhost:8080/",
          "height": 1000
        },
        "id": "zteKpi7YV2WF",
        "outputId": "1a70e758-877e-4cb1-b970-de6fd0bfef77"
      },
      "outputs": [
        {
          "output_type": "stream",
          "name": "stdout",
          "text": [
            "There are 16000 records in the dataset.\n",
            "\n"
          ]
        },
        {
          "output_type": "display_data",
          "data": {
            "text/plain": [
              "<Figure size 432x360 with 1 Axes>"
            ],
            "image/png": "[encoded data removed]"
          },
          "metadata": {
            "needs_background": "light"
          }
        },
        {
          "output_type": "stream",
          "name": "stdout",
          "text": [
            "There are 2000 records in the dataset.\n",
            "\n"
          ]
        },
        {
          "output_type": "display_data",
          "data": {
            "text/plain": [
              "<Figure size 432x360 with 1 Axes>"
            ],
            "image/png": "[encoded data removed]"
          },
          "metadata": {
            "needs_background": "light"
          }
        },
        {
          "output_type": "stream",
          "name": "stdout",
          "text": [
            "There are 2000 records in the dataset.\n",
            "\n"
          ]
        },
        {
          "output_type": "display_data",
          "data": {
            "text/plain": [
              "<Figure size 432x360 with 1 Axes>"
            ],
            "image/png": "[encoded data removed]"
          },
          "metadata": {
            "needs_background": "light"
          }
        }
      ],
      "source": [
        "visualize_labels_distribution(train, 'train')\n",
        "visualize_labels_distribution(test, 'test')\n",
        "visualize_labels_distribution(validation, 'val')"
      ]
    },
    {
      "cell_type": "markdown",
      "metadata": {
        "id": "jXYmTsabWCBZ"
      },
      "source": [
        "Text Preprocessing"
      ]
    },
    {
      "cell_type": "code",
      "execution_count": 9,
      "metadata": {
        "colab": {
          "base_uri": "https://localhost:8080/"
        },
        "id": "7LyDVJAmWE4u",
        "outputId": "dbf9f2fb-c83a-4b43-d7a9-cb3af73ac46e"
      },
      "outputs": [
        {
          "output_type": "stream",
          "name": "stdout",
          "text": [
            "[nltk_data] Downloading package punkt to /root/nltk_data...\n",
            "[nltk_data]   Unzipping tokenizers/punkt.zip.\n",
            "[nltk_data] Downloading package stopwords to /root/nltk_data...\n",
            "[nltk_data]   Unzipping corpora/stopwords.zip.\n"
          ]
        }
      ],
      "source": [
        "import nltk \n",
        "nltk.download('punkt')\n",
        "nltk.download('stopwords')\n",
        "from nltk.corpus import stopwords\n",
        "\n",
        "# downloading a set of stop-words\n",
        "STOPWORDS = set(stopwords.words('english'))\n",
        "\n",
        "# tokenizer\n",
        "from nltk.tokenize import word_tokenize"
      ]
    },
    {
      "cell_type": "code",
      "execution_count": 10,
      "metadata": {
        "id": "PIE5VNhDWHp3"
      },
      "outputs": [],
      "source": [
        "def text_preprocess(text, stop_words=False):\n",
        "  '''\n",
        "  Accepts text (a single string) and\n",
        "  a parameters of preprocessing\n",
        "  Returns preprocessed text\n",
        "\n",
        "  '''\n",
        "  # clean text from non-words\n",
        "  text = re.sub(r'\\W+', ' ', text).lower()\n",
        "\n",
        "  # tokenize the text\n",
        "  tokens = word_tokenize(text)\n",
        "\n",
        "  if stop_words:\n",
        "    # delete stop_words\n",
        "    tokens = [token for token in tokens if token not in STOPWORDS]\n",
        "\n",
        "  return tokens"
      ]
    },
    {
      "cell_type": "code",
      "execution_count": 11,
      "metadata": {
        "colab": {
          "base_uri": "https://localhost:8080/"
        },
        "id": "SJpv9LJsWLaF",
        "outputId": "61240f8c-44cc-4722-d553-36cbe7a9cc19"
      },
      "outputs": [
        {
          "output_type": "stream",
          "name": "stdout",
          "text": [
            "Before: \n",
            "                                               Lines Emotions  Labels\n",
            "0                            i didnt feel humiliated  sadness       4\n",
            "1  i can go from feeling so hopeless to so damned...  sadness       4\n",
            "2   im grabbing a minute to post i feel greedy wrong    anger       0\n",
            "3  i am ever feeling nostalgic about the fireplac...     love       1\n",
            "4                               i am feeling grouchy    anger       0\n",
            "\n",
            "After:\n",
            "(['didnt', 'feel', 'humiliated'], 4)\n",
            "(['go', 'feeling', 'hopeless', 'damned', 'hopeful', 'around', 'someone', 'cares', 'awake'], 4)\n",
            "(['im', 'grabbing', 'minute', 'post', 'feel', 'greedy', 'wrong'], 0)\n",
            "(['ever', 'feeling', 'nostalgic', 'fireplace', 'know', 'still', 'property'], 1)\n",
            "(['feeling', 'grouchy'], 0)\n"
          ]
        }
      ],
      "source": [
        "print('Before: ')\n",
        "print(train.head())\n",
        "\n",
        "x_train = [text_preprocess(t, stop_words=True) for t in train['Lines']]\n",
        "y_train = train['Labels'].values\n",
        "\n",
        "print('\\nAfter:')\n",
        "for line_and_label in list(zip(x_train[:5], y_train[:5])):\n",
        "  print(line_and_label)"
      ]
    },
    {
      "cell_type": "code",
      "execution_count": 12,
      "metadata": {
        "id": "iLa41wlrWN11"
      },
      "outputs": [],
      "source": [
        "#test data\n",
        "x_test = [text_preprocess(t, stop_words=True) for t in test['Lines']]\n",
        "y_test = test['Labels'].values\n",
        "\n",
        "#validation data\n",
        "x_validation = [text_preprocess(t, stop_words=True) for t in validation['Lines']]\n",
        "y_validation = validation['Labels'].values"
      ]
    },
    {
      "cell_type": "markdown",
      "metadata": {
        "id": "lRumeJnUWWU3"
      },
      "source": [
        "Word embeddings"
      ]
    },
    {
      "cell_type": "code",
      "execution_count": 14,
      "metadata": {
        "id": "H1j5IjFtWZSt"
      },
      "outputs": [],
      "source": [
        "# load pre-trained model\n",
        "import gensim.downloader as api\n",
        "model_wiki = api.load('fasttext-wiki-news-subwords-300')"
      ]
    },
    {
      "cell_type": "code",
      "execution_count": 15,
      "metadata": {
        "id": "sHfAaCr4WbfQ"
      },
      "outputs": [],
      "source": [
        "from gensim.models import Word2Vec\n",
        "\n",
        "# train word2vec model on the corpus\n",
        "model_w2v = Word2Vec(x_train + x_test + x_validation,   # data for model to train on\n",
        "                     size = 300,                            # embedding vector size\n",
        "                     min_count = 2).wv  "
      ]
    },
    {
      "cell_type": "markdown",
      "metadata": {
        "id": "F4O04_YZcraE"
      },
      "source": [
        "Converting sentences into vectors"
      ]
    },
    {
      "cell_type": "code",
      "execution_count": 16,
      "metadata": {
        "id": "GwXnmSbIcsNp"
      },
      "outputs": [],
      "source": [
        "from tensorflow.keras.preprocessing.text import Tokenizer"
      ]
    },
    {
      "cell_type": "code",
      "execution_count": 17,
      "metadata": {
        "id": "AuE7IAo-cu4o"
      },
      "outputs": [],
      "source": [
        "DICT_SIZE = 15000\n",
        "\n",
        "# creating a dictionary with most used words\n",
        "# where num of words = DICT_SIZE\n",
        "tokenizer = Tokenizer(num_words=DICT_SIZE)\n",
        "total = x_train + x_test + x_validation\n",
        "tokenizer.fit_on_texts(total)"
      ]
    },
    {
      "cell_type": "code",
      "execution_count": 18,
      "metadata": {
        "colab": {
          "base_uri": "https://localhost:8080/"
        },
        "id": "W0iCnkUfcxbH",
        "outputId": "62f50906-e799-4266-8a6c-d5a598ee98cf"
      },
      "outputs": [
        {
          "output_type": "execute_result",
          "data": {
            "text/plain": [
              "[('feel', 1), ('feeling', 2), ('like', 3), ('im', 4), ('really', 5)]"
            ]
          },
          "metadata": {},
          "execution_count": 18
        }
      ],
      "source": [
        "# words and their indexes\n",
        "list(tokenizer.word_index.items())[:5]"
      ]
    },
    {
      "cell_type": "code",
      "execution_count": 19,
      "metadata": {
        "colab": {
          "base_uri": "https://localhost:8080/"
        },
        "id": "PTF9GiTkc08o",
        "outputId": "514e12a2-b6c4-446f-d5a1-742cf33f220f"
      },
      "outputs": [
        {
          "output_type": "execute_result",
          "data": {
            "text/plain": [
              "16945"
            ]
          },
          "metadata": {},
          "execution_count": 19
        }
      ],
      "source": [
        "# number of unique words in the corpus\n",
        "len(tokenizer.word_index)"
      ]
    },
    {
      "cell_type": "code",
      "execution_count": 20,
      "metadata": {
        "id": "QoKKLr58c2_U"
      },
      "outputs": [],
      "source": [
        "# find max length of sentences across all parts of the dataset\n",
        "x_train_max_len = max([len(i) for i in x_train])\n",
        "x_test_max_len = max([len(i) for i in x_test])\n",
        "x_validation_max_len = max([len(i) for i in x_validation])\n",
        "\n",
        "MAX_LEN = max(x_train_max_len, x_test_max_len, x_validation_max_len)"
      ]
    },
    {
      "cell_type": "code",
      "execution_count": 21,
      "metadata": {
        "colab": {
          "base_uri": "https://localhost:8080/"
        },
        "id": "mxvNMHt1c44w",
        "outputId": "d9314059-47fe-437a-e613-b1f4b6fd8b77"
      },
      "outputs": [
        {
          "output_type": "execute_result",
          "data": {
            "text/plain": [
              "35"
            ]
          },
          "metadata": {},
          "execution_count": 21
        }
      ],
      "source": [
        "# max length across all sentences\n",
        "MAX_LEN"
      ]
    },
    {
      "cell_type": "code",
      "execution_count": 22,
      "metadata": {
        "id": "DJwS6Lw_c6mQ"
      },
      "outputs": [],
      "source": [
        "from tensorflow.keras.preprocessing.sequence import pad_sequences"
      ]
    },
    {
      "cell_type": "code",
      "execution_count": 24,
      "metadata": {
        "id": "VftdvAGEc88P"
      },
      "outputs": [],
      "source": [
        "# replace words with their indexes, \n",
        "# change size of vectors to MAX_LEN and pad indexes \n",
        "X_train = tokenizer.texts_to_sequences(x_train)\n",
        "X_train_pad = pad_sequences(X_train, maxlen=MAX_LEN)\n",
        "\n",
        "X_test = tokenizer.texts_to_sequences(x_test)\n",
        "X_test_pad = pad_sequences(X_test, maxlen=MAX_LEN)\n",
        "\n",
        "X_val = tokenizer.texts_to_sequences(x_validation)\n",
        "X_val_pad = pad_sequences(X_val, maxlen=MAX_LEN)"
      ]
    },
    {
      "cell_type": "code",
      "execution_count": 25,
      "metadata": {
        "colab": {
          "base_uri": "https://localhost:8080/"
        },
        "id": "Iagx3Iffc_c1",
        "outputId": "e0181e64-b70d-4e2a-e20c-d9dbeb8516c4"
      },
      "outputs": [
        {
          "output_type": "execute_result",
          "data": {
            "text/plain": [
              "[50, 1, 510]"
            ]
          },
          "metadata": {},
          "execution_count": 25
        }
      ],
      "source": [
        "# words are replaced by their indexes\n",
        "X_train[0]"
      ]
    },
    {
      "cell_type": "code",
      "execution_count": 26,
      "metadata": {
        "colab": {
          "base_uri": "https://localhost:8080/"
        },
        "id": "uH9eDTxYdBTe",
        "outputId": "2ce46dbd-d365-436d-e26f-7e60c998a248"
      },
      "outputs": [
        {
          "output_type": "execute_result",
          "data": {
            "text/plain": [
              "array([  0,   0,   0,   0,   0,   0,   0,   0,   0,   0,   0,   0,   0,\n",
              "         0,   0,   0,   0,   0,   0,   0,   0,   0,   0,   0,   0,   0,\n",
              "         0,   0,   0,   0,   0,   0,  50,   1, 510], dtype=int32)"
            ]
          },
          "metadata": {},
          "execution_count": 26
        }
      ],
      "source": [
        "# sentence after padding\n",
        "X_train_pad[0]"
      ]
    },
    {
      "cell_type": "markdown",
      "metadata": {
        "id": "h9fypdd6dF0e"
      },
      "source": [
        "Embedding matrix"
      ]
    },
    {
      "cell_type": "code",
      "execution_count": 27,
      "metadata": {
        "id": "v-vYhfaSgets"
      },
      "outputs": [],
      "source": [
        "from gensim.models import KeyedVectors\n",
        "Word2VecKeyedVectors = KeyedVectors"
      ]
    },
    {
      "cell_type": "code",
      "execution_count": 28,
      "metadata": {
        "id": "ZsiJmrA-dGTG"
      },
      "outputs": [],
      "source": [
        "def create_weight_matrix(model, second_model=False):\n",
        "  vector_size = model.get_vector('like').shape[0]\n",
        "  w_matrix = np.zeros((DICT_SIZE, vector_size))\n",
        "  skipped_words = []\n",
        "\n",
        "  for word, index in tokenizer.word_index.items():\n",
        "    if index < DICT_SIZE:\n",
        "      if word in model.wv.vocab: \n",
        "        w_matrix[index] = model.get_vector(word)\n",
        "      else:\n",
        "        if second_model:\n",
        "          if word in second_model.wv.vocab:\n",
        "            w_matrix[index] = second_model.get_vector(word)\n",
        "          else:\n",
        "            skipped_words.append(word)\n",
        "        else:\n",
        "          skipped_words.append(word)\n",
        "  print(f'{len(skipped_words)} words were skipped. Some of them:')\n",
        "  print(skipped_words[:50])\n",
        "  return w_matrix"
      ]
    },
    {
      "cell_type": "code",
      "execution_count": 29,
      "metadata": {
        "colab": {
          "base_uri": "https://localhost:8080/"
        },
        "id": "iWUqA0YZdNqx",
        "outputId": "a0109ec6-d7fe-4862-cf71-e514cbb40961"
      },
      "outputs": [
        {
          "output_type": "stream",
          "name": "stdout",
          "text": [
            "967 words were skipped. Some of them:\n",
            "['jacynthe', 'rupaul', 'kayle', 'gerling', 'mxm', 'dannika', 'hyperchondria', 'manitz', 'educationg', 'gosman', 'montauk', 'bummin', 'wheeeeee', 'underwears', 'olivias', 'bandhu', 'uplifter', 'suicidalness', 'dykey', 'provokingbeauty', 'bodypump', 'honkerblonked', 'clermont', 'instructables', 'janne', 'suominen', 'kamiki', 'nozomi', 'nonchan', 'beaubronz', 'docrat', 'allthingsbucks', 'irresponcible', 'scruncher', 'utf', 'isprivate', 'ismobile', 'mobileclass', 'isprivateblog', 'languagedirection', 'feedlinks', 'lorena', 'handss', 'nervs', 'mommyhood', 'nowwwwww', 'whitleys', 'forelorn', 'baachan', 'covingtons']\n"
          ]
        },
        {
          "output_type": "stream",
          "name": "stderr",
          "text": [
            "/usr/local/lib/python3.7/dist-packages/ipykernel_launcher.py:8: DeprecationWarning: Call to deprecated `wv` (Attribute will be removed in 4.0.0, use self instead).\n",
            "  \n",
            "/usr/local/lib/python3.7/dist-packages/ipykernel_launcher.py:12: DeprecationWarning: Call to deprecated `wv` (Attribute will be removed in 4.0.0, use self instead).\n",
            "  if sys.path[0] == '':\n"
          ]
        }
      ],
      "source": [
        "weight_matrix = create_weight_matrix(model_wiki, model_w2v)"
      ]
    },
    {
      "cell_type": "code",
      "execution_count": 30,
      "metadata": {
        "colab": {
          "base_uri": "https://localhost:8080/"
        },
        "id": "Vx_BoDHadxrB",
        "outputId": "cfbbec47-c08e-4c9e-b32e-7755296493d9"
      },
      "outputs": [
        {
          "output_type": "execute_result",
          "data": {
            "text/plain": [
              "(15000, 300)"
            ]
          },
          "metadata": {},
          "execution_count": 30
        }
      ],
      "source": [
        "weight_matrix.shape"
      ]
    },
    {
      "cell_type": "markdown",
      "metadata": {
        "id": "jvnzwSfksna4"
      },
      "source": [
        "DL model"
      ]
    },
    {
      "cell_type": "code",
      "execution_count": 31,
      "metadata": {
        "id": "huSaobdwqaat"
      },
      "outputs": [],
      "source": [
        "# import models, layers, optimizers from tensorflow\n",
        "from tensorflow.keras.models import Sequential\n",
        "from tensorflow.keras.layers import Embedding, LSTM, Bidirectional, Dense, Dropout\n",
        "from tensorflow.keras.optimizers import Adam"
      ]
    },
    {
      "cell_type": "code",
      "execution_count": 32,
      "metadata": {
        "id": "UhIgFXUFsqgz"
      },
      "outputs": [],
      "source": [
        "# import and initialize early stopping\n",
        "from tensorflow.keras.callbacks import EarlyStopping\n",
        "stop = EarlyStopping(monitor='val_loss', mode='min', verbose=1, patience=3)"
      ]
    },
    {
      "cell_type": "code",
      "execution_count": 33,
      "metadata": {
        "id": "ogW-TO0As6lI"
      },
      "outputs": [],
      "source": [
        "# initialize sequential model\n",
        "model = Sequential()\n",
        "model.add(Embedding(input_dim = DICT_SIZE, # the whole vocabulary size\n",
        "                    output_dim = weight_matrix.shape[1], # vector space dimension\n",
        "                    input_length = X_train_pad.shape[1], # max_len of text sequence\n",
        "                    weights=[weight_matrix], # assign the embedding weight with embedding marix\n",
        "                    trainable=False)) # set the weight to be not trainable (static)"
      ]
    },
    {
      "cell_type": "code",
      "execution_count": 34,
      "metadata": {
        "id": "fAyZpl3ytAte"
      },
      "outputs": [],
      "source": [
        "model.add(Bidirectional(LSTM(128, return_sequences=True))) \n",
        "model.add(Dropout(0.2))\n",
        "model.add(Bidirectional(LSTM(256, return_sequences=True)))\n",
        "model.add(Dropout(0.2))\n",
        "model.add(Bidirectional(LSTM(128, return_sequences=False)))\n",
        "model.add(Dense(6, activation = 'softmax'))\n",
        "model.compile(loss='sparse_categorical_crossentropy', optimizer='adam', metrics='accuracy')"
      ]
    },
    {
      "cell_type": "code",
      "execution_count": 35,
      "metadata": {
        "colab": {
          "base_uri": "https://localhost:8080/"
        },
        "id": "F-Kxsr4ctD5w",
        "outputId": "0cdd82c0-de0f-4a68-bfd2-94f3566e0e93"
      },
      "outputs": [
        {
          "output_type": "stream",
          "name": "stdout",
          "text": [
            "Epoch 1/20\n",
            "2000/2000 [==============================] - 884s 437ms/step - loss: 0.8775 - accuracy: 0.6800 - val_loss: 0.3388 - val_accuracy: 0.8680\n",
            "Epoch 2/20\n",
            "2000/2000 [==============================] - 909s 454ms/step - loss: 0.2529 - accuracy: 0.9051 - val_loss: 0.1826 - val_accuracy: 0.9275\n",
            "Epoch 3/20\n",
            "2000/2000 [==============================] - 919s 459ms/step - loss: 0.1641 - accuracy: 0.9285 - val_loss: 0.1621 - val_accuracy: 0.9295\n",
            "Epoch 4/20\n",
            "2000/2000 [==============================] - 934s 467ms/step - loss: 0.1358 - accuracy: 0.9356 - val_loss: 0.1272 - val_accuracy: 0.9355\n",
            "Epoch 5/20\n",
            "2000/2000 [==============================] - 925s 462ms/step - loss: 0.1233 - accuracy: 0.9358 - val_loss: 0.1548 - val_accuracy: 0.9275\n",
            "Epoch 6/20\n",
            "2000/2000 [==============================] - 950s 475ms/step - loss: 0.1178 - accuracy: 0.9395 - val_loss: 0.1155 - val_accuracy: 0.9380\n",
            "Epoch 7/20\n",
            "2000/2000 [==============================] - 913s 457ms/step - loss: 0.1088 - accuracy: 0.9418 - val_loss: 0.1212 - val_accuracy: 0.9355\n",
            "Epoch 8/20\n",
            "2000/2000 [==============================] - 910s 455ms/step - loss: 0.1025 - accuracy: 0.9430 - val_loss: 0.1199 - val_accuracy: 0.9390\n",
            "Epoch 9/20\n",
            "2000/2000 [==============================] - 931s 466ms/step - loss: 0.1015 - accuracy: 0.9451 - val_loss: 0.1170 - val_accuracy: 0.9370\n",
            "Epoch 9: early stopping\n"
          ]
        }
      ],
      "source": [
        "history = model.fit(X_train_pad, y_train, \n",
        "                    validation_data = (X_val_pad, y_validation),\n",
        "                    batch_size = 8,\n",
        "                    epochs = 20, \n",
        "                    callbacks = stop)"
      ]
    },
    {
      "cell_type": "code",
      "execution_count": 36,
      "metadata": {
        "id": "ZZz56X-wtG8S"
      },
      "outputs": [],
      "source": [
        "from keras.models import load_model\n",
        "model.save('my_model.h5')"
      ]
    },
    {
      "cell_type": "markdown",
      "metadata": {
        "id": "NbpEb_IJM8eD"
      },
      "source": [
        "Evaluate model"
      ]
    },
    {
      "cell_type": "code",
      "execution_count": 37,
      "metadata": {
        "id": "L80j8pTYMi5o"
      },
      "outputs": [],
      "source": [
        "def plot_history(history):\n",
        "    \n",
        "    loss = history.history['loss']\n",
        "    accuracy = history.history['accuracy']\n",
        "    val_loss = history.history['val_loss']\n",
        "    val_accuracy = history.history['val_accuracy']\n",
        "    x = range(1, len(loss) + 1)\n",
        "\n",
        "    plt.figure(figsize=(12, 5))\n",
        "    plt.subplot(1, 2, 1)\n",
        "    plt.plot(x, accuracy, label='Training acc', color='#707bfb')\n",
        "    plt.plot(x, val_accuracy, label='Validation acc', color='#fbcbff')\n",
        "    plt.title('Training and validation accuracy')\n",
        "    plt.grid(True)\n",
        "    plt.legend()\n",
        "    plt.subplot(1, 2, 2)\n",
        "    plt.plot(x, loss, label='Training loss', color='#707bfb')\n",
        "    plt.plot(x, val_loss, label='Validation loss', color='#fbcbff')\n",
        "    plt.title('Training and validation loss')\n",
        "    plt.grid(True)\n",
        "    plt.legend()"
      ]
    },
    {
      "cell_type": "code",
      "execution_count": 38,
      "metadata": {
        "colab": {
          "base_uri": "https://localhost:8080/",
          "height": 336
        },
        "id": "jVDmF6N6NEdq",
        "outputId": "9cbc6e54-9ac3-4a2e-9ac5-e047c778a812"
      },
      "outputs": [
        {
          "output_type": "display_data",
          "data": {
            "text/plain": [
              "<Figure size 864x360 with 2 Axes>"
            ],
            "image/png": "[encoded data removed]"
          },
          "metadata": {
            "needs_background": "light"
          }
        }
      ],
      "source": [
        "plot_history(history)"
      ]
    },
    {
      "cell_type": "code",
      "execution_count": 39,
      "metadata": {
        "colab": {
          "base_uri": "https://localhost:8080/"
        },
        "id": "RyTG9L9eNI92",
        "outputId": "c9263370-32f5-426f-a10d-c91b09fa7724"
      },
      "outputs": [
        {
          "output_type": "stream",
          "name": "stdout",
          "text": [
            "63/63 [==============================] - 39s 583ms/step - loss: 0.1488 - accuracy: 0.9275\n"
          ]
        },
        {
          "output_type": "execute_result",
          "data": {
            "text/plain": [
              "[0.14878688752651215, 0.9275000095367432]"
            ]
          },
          "metadata": {},
          "execution_count": 39
        }
      ],
      "source": [
        "model.evaluate(X_test_pad, y_test) "
      ]
    },
    {
      "cell_type": "code",
      "execution_count": 40,
      "metadata": {
        "id": "4WPzBDYANXRe"
      },
      "outputs": [],
      "source": [
        "y_pred = np.argmax(model.predict(X_test_pad), axis=1)"
      ]
    },
    {
      "cell_type": "code",
      "execution_count": 41,
      "metadata": {
        "colab": {
          "base_uri": "https://localhost:8080/"
        },
        "id": "h7Lr435hNqmU",
        "outputId": "15652623-0221-4ab3-98cb-371f080b80a3"
      },
      "outputs": [
        {
          "output_type": "stream",
          "name": "stdout",
          "text": [
            "              precision    recall  f1-score   support\n",
            "\n",
            "           0       0.96      0.91      0.94       275\n",
            "           1       0.89      0.74      0.81       159\n",
            "           2       0.89      0.91      0.90       224\n",
            "           3       0.92      0.97      0.94       695\n",
            "           4       0.96      0.97      0.96       581\n",
            "           5       0.76      0.73      0.74        66\n",
            "\n",
            "    accuracy                           0.93      2000\n",
            "   macro avg       0.90      0.87      0.88      2000\n",
            "weighted avg       0.93      0.93      0.93      2000\n",
            "\n"
          ]
        }
      ],
      "source": [
        "from sklearn import metrics\n",
        "print(metrics.classification_report(y_test, y_pred))"
      ]
    },
    {
      "cell_type": "code",
      "execution_count": 42,
      "metadata": {
        "id": "ylTug-elNv6e"
      },
      "outputs": [],
      "source": [
        "# setting a custom colormap\n",
        "from matplotlib.colors import LinearSegmentedColormap\n",
        "colors = ['#ffffff', '#fbcbff', '#707bfb']\n",
        "cmap = LinearSegmentedColormap.from_list('mycmap', colors)"
      ]
    },
    {
      "cell_type": "code",
      "execution_count": 43,
      "metadata": {
        "id": "uYHKhKd4N2OT"
      },
      "outputs": [],
      "source": [
        "def plot_confusion_matrix(matrix, fmt=''):\n",
        "  '''\n",
        "  Accepts a confusion matrix and a format param\n",
        "  Plots the matrix as a heatmap\n",
        "  Returns nothing\n",
        "\n",
        "  '''\n",
        "  plt.figure(figsize=(6, 5))\n",
        "  sns.heatmap(matrix, annot=True, \n",
        "              cmap=cmap, \n",
        "              fmt=fmt, \n",
        "              xticklabels=emotions_to_labels.keys(), \n",
        "              yticklabels=emotions_to_labels.keys())\n",
        "  plt.ylabel('True labels')\n",
        "  plt.xlabel('Predicted labels')\n",
        "  plt.show()"
      ]
    },
    {
      "cell_type": "code",
      "execution_count": 44,
      "metadata": {
        "colab": {
          "base_uri": "https://localhost:8080/",
          "height": 334
        },
        "id": "SQI30ijjN7Nl",
        "outputId": "5fee4ddb-80f9-4fb9-ee6c-fc535bc2c85c"
      },
      "outputs": [
        {
          "output_type": "display_data",
          "data": {
            "text/plain": [
              "<Figure size 432x360 with 2 Axes>"
            ],
            "image/png": "[encoded data removed]"
          },
          "metadata": {
            "needs_background": "light"
          }
        }
      ],
      "source": [
        "matrix = metrics.confusion_matrix(y_test, y_pred)\n",
        "plot_confusion_matrix(matrix)"
      ]
    },
    {
      "cell_type": "code",
      "execution_count": 45,
      "metadata": {
        "colab": {
          "base_uri": "https://localhost:8080/",
          "height": 334
        },
        "id": "HWcEzhULN9vS",
        "outputId": "54dbfb2a-653c-470e-a804-5e98851a0628"
      },
      "outputs": [
        {
          "output_type": "display_data",
          "data": {
            "text/plain": [
              "<Figure size 432x360 with 2 Axes>"
            ],
            "image/png": "[encoded data removed]"
          },
          "metadata": {
            "needs_background": "light"
          }
        }
      ],
      "source": [
        "# create new confusion matrix\n",
        "# where values are normed by row\n",
        "matrix_new = np.zeros(matrix.shape)\n",
        "\n",
        "for row in range(len(matrix)):\n",
        "  sum = np.sum(matrix[row])\n",
        "  for element in range(len(matrix[row])):\n",
        "    matrix_new[row][element] = matrix[row][element] / sum\n",
        "\n",
        "plot_confusion_matrix(matrix_new, fmt='.2')"
      ]
    },
    {
      "cell_type": "markdown",
      "metadata": {
        "id": "Y7ARKQeROV7w"
      },
      "source": [
        "Test model on custom data"
      ]
    },
    {
      "cell_type": "code",
      "execution_count": 46,
      "metadata": {
        "id": "b15q3tw4OLtz"
      },
      "outputs": [],
      "source": [
        "def predict(texts):\n",
        "  '''\n",
        "  Accepts array if texts (strings)\n",
        "  Prints sentence and the corresponding label (emotion)\n",
        "  Returns nothing\n",
        "  \n",
        "  '''\n",
        "  texts_prepr = [text_preprocess(t) for t in texts]\n",
        "  sequences = tokenizer.texts_to_sequences(texts_prepr)\n",
        "  pad = pad_sequences(sequences, maxlen=MAX_LEN)\n",
        "\n",
        "  predictions = model.predict(pad)\n",
        "  labels = np.argmax(predictions, axis=1)\n",
        "  \n",
        "  for i, lbl in enumerate(labels):\n",
        "    print(f'\\'{texts[i]}\\' --> {labels_to_emotions[lbl]}')"
      ]
    },
    {
      "cell_type": "code",
      "execution_count": 47,
      "metadata": {
        "colab": {
          "base_uri": "https://localhost:8080/"
        },
        "id": "JC_629XzOZ-v",
        "outputId": "8f706301-da70-46e8-f780-6e14352f44e1"
      },
      "outputs": [
        {
          "output_type": "stream",
          "name": "stdout",
          "text": [
            "'I am so happy' --> joy\n",
            "'The man felt lonely' --> sadness\n",
            "'The guests felt satisfied' --> joy\n"
          ]
        }
      ],
      "source": [
        "test_texts = ['I am so happy', 'The man felt lonely', 'The guests felt satisfied']\n",
        "\n",
        "predict(test_texts)"
      ]
    },
    {
      "cell_type": "code",
      "execution_count": null,
      "metadata": {
        "id": "5nv77qoEOdIJ"
      },
      "outputs": [],
      "source": [
        ""
      ]
    }
  ],
  "metadata": {
    "colab": {
      "collapsed_sections": [],
      "name": "Emotion_Recognition_model.ipynb",
      "provenance": []
    },
    "kernelspec": {
      "display_name": "Python 3",
      "language": "python",
      "name": "python3"
    },
    "language_info": {
      "codemirror_mode": {
        "name": "ipython",
        "version": 3
      },
      "file_extension": ".py",
      "mimetype": "text/x-python",
      "name": "python",
      "nbconvert_exporter": "python",
      "pygments_lexer": "ipython3",
      "version": "3.6.13"
    }
  },
  "nbformat": 4,
  "nbformat_minor": 0
}